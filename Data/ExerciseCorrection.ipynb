{
 "cells": [
  {
   "cell_type": "markdown",
   "id": "c9da2d13-e248-495a-8746-9ea2e31dbc40",
   "metadata": {},
   "source": [
    "# Corrección del ejercicio\n",
    "-----\n",
    "\n",
    "## Curso de Protección Radiológica Nivel Avanzado para residentes de cuarto y quinto año\n",
    "\n",
    "**Objetivo**: Corregir de forma automática el ejercicio de protección radiológica y generar el texto de retroalimentación para enviar a los residentes"
   ]
  },
  {
   "cell_type": "code",
   "execution_count": 1,
   "id": "ecbb77e3-8851-4070-a02b-1aeaa2c2d657",
   "metadata": {},
   "outputs": [
    {
     "data": {
      "text/html": [
       "\n",
       "                <script type=\"application/javascript\" id=\"jupyter_black\">\n",
       "                (function() {\n",
       "                    if (window.IPython === undefined) {\n",
       "                        return\n",
       "                    }\n",
       "                    var msg = \"WARNING: it looks like you might have loaded \" +\n",
       "                        \"jupyter_black in a non-lab notebook with \" +\n",
       "                        \"`is_lab=True`. Please double check, and if \" +\n",
       "                        \"loading with `%load_ext` please review the README!\"\n",
       "                    console.log(msg)\n",
       "                    alert(msg)\n",
       "                })()\n",
       "                </script>\n",
       "                "
      ],
      "text/plain": [
       "<IPython.core.display.HTML object>"
      ]
     },
     "metadata": {},
     "output_type": "display_data"
    }
   ],
   "source": [
    "%load_ext jupyter_black"
   ]
  },
  {
   "cell_type": "code",
   "execution_count": 2,
   "id": "30267775-e50a-4c6d-9535-66e67fec436a",
   "metadata": {},
   "outputs": [],
   "source": [
    "import pandas as pd"
   ]
  },
  {
   "cell_type": "code",
   "execution_count": 3,
   "id": "6a9a0977-6ef7-4f12-a675-3ab780a4bade",
   "metadata": {},
   "outputs": [],
   "source": [
    "import autcor.basics as acb"
   ]
  },
  {
   "cell_type": "code",
   "execution_count": 4,
   "id": "170d3850-f237-4a89-b1f1-3b0783f5a71c",
   "metadata": {},
   "outputs": [
    {
     "name": "stdout",
     "output_type": "stream",
     "text": [
      "Saludos desde el módulo de correción automática\n"
     ]
    }
   ],
   "source": [
    "acb.caso1f()"
   ]
  },
  {
   "cell_type": "code",
   "execution_count": 11,
   "id": "ff1123fc-0e4c-4f60-a35a-cab86009c992",
   "metadata": {},
   "outputs": [
    {
     "data": {
      "text/html": [
       "<div>\n",
       "<style scoped>\n",
       "    .dataframe tbody tr th:only-of-type {\n",
       "        vertical-align: middle;\n",
       "    }\n",
       "\n",
       "    .dataframe tbody tr th {\n",
       "        vertical-align: top;\n",
       "    }\n",
       "\n",
       "    .dataframe thead th {\n",
       "        text-align: right;\n",
       "    }\n",
       "</style>\n",
       "<table border=\"1\" class=\"dataframe\">\n",
       "  <thead>\n",
       "    <tr style=\"text-align: right;\">\n",
       "      <th></th>\n",
       "      <th>Alumno</th>\n",
       "      <th>Opcion</th>\n",
       "      <th>Realimentacion</th>\n",
       "      <th>Correcta</th>\n",
       "    </tr>\n",
       "  </thead>\n",
       "  <tbody>\n",
       "    <tr>\n",
       "      <th>0</th>\n",
       "      <td>X</td>\n",
       "      <td>a) Se debería realiza una ecografía abdominal ...</td>\n",
       "      <td>En este caso no deberíamos realizar pruebas de...</td>\n",
       "      <td>False</td>\n",
       "    </tr>\n",
       "    <tr>\n",
       "      <th>1</th>\n",
       "      <td>NaN</td>\n",
       "      <td>b) Si existe una buena función renal (FG &gt; 75 ...</td>\n",
       "      <td>Aunque exista buena función renal, la realizac...</td>\n",
       "      <td>False</td>\n",
       "    </tr>\n",
       "    <tr>\n",
       "      <th>2</th>\n",
       "      <td>NaN</td>\n",
       "      <td>c) Aunque exista buena función renal (FG &gt; 75 ...</td>\n",
       "      <td>Aunque exista buena función renal, la realizac...</td>\n",
       "      <td>True</td>\n",
       "    </tr>\n",
       "    <tr>\n",
       "      <th>3</th>\n",
       "      <td>X</td>\n",
       "      <td>d) Tras 72h de inicio del cuadro clínico, si n...</td>\n",
       "      <td>Pasadas 48-72h sí está indicada la realización...</td>\n",
       "      <td>True</td>\n",
       "    </tr>\n",
       "  </tbody>\n",
       "</table>\n",
       "</div>"
      ],
      "text/plain": [
       "  Alumno                                             Opcion  \\\n",
       "0      X  a) Se debería realiza una ecografía abdominal ...   \n",
       "1    NaN  b) Si existe una buena función renal (FG > 75 ...   \n",
       "2    NaN  c) Aunque exista buena función renal (FG > 75 ...   \n",
       "3      X  d) Tras 72h de inicio del cuadro clínico, si n...   \n",
       "\n",
       "                                      Realimentacion  Correcta  \n",
       "0  En este caso no deberíamos realizar pruebas de...     False  \n",
       "1  Aunque exista buena función renal, la realizac...     False  \n",
       "2  Aunque exista buena función renal, la realizac...      True  \n",
       "3  Pasadas 48-72h sí está indicada la realización...      True  "
      ]
     },
     "execution_count": 11,
     "metadata": {},
     "output_type": "execute_result"
    }
   ],
   "source": [
    "filename = \"JOSE MANUEL MONTERO MEJIAS.xlsx\"\n",
    "sheet_name = \"Caso 1\"\n",
    "skiprows = 8\n",
    "nrows = 13\n",
    "usecols = \"A:B\"\n",
    "names = [\"Alumno\", \"Opcion\"]\n",
    "\n",
    "caso1df = pd.read_excel(\n",
    "    io=filename,\n",
    "    sheet_name=sheet_name,\n",
    "    skiprows=skiprows,\n",
    "    nrows=nrows,\n",
    "    usecols=usecols,\n",
    "    names=names,\n",
    ")\n",
    "\n",
    "caso1df.dropna(inplace=True, how=\"all\")\n",
    "caso1df.reset_index(drop=True, inplace=True)\n",
    "\n",
    "caso1df[\"Realimentacion\"] = [\n",
    "    \"En este caso no deberíamos realizar pruebas de imagen de forma urgente. La presentación clínica es típica y existe elevación de amilasa y lipasa.\",\n",
    "    \"Aunque exista buena función renal, la realización de una TC urgente no está indicada. La presentación clínica es típica y existe elevación de amilasa y lipasa.\",\n",
    "    \"Aunque exista buena función renal, la realización de una TC urgente no está indicada. La presentación clínica es típica y existe elevación de amilasa y lipasa.\",\n",
    "    \"Pasadas 48-72h sí está indicada la realización de una TC abdominal si existe sospecha de complicación. La realización de una TC de abdomen previa a las 48h no está indicada ya que está demostrado que tiene una escasa influencia en el pronóstico de los pacientes y, además, puede llevar a conclusiones inadecuadas.\",\n",
    "]\n",
    "\n",
    "caso1df[\"Correcta\"] = [False, False, True, True]\n",
    "\n",
    "caso1df"
   ]
  },
  {
   "cell_type": "code",
   "execution_count": 32,
   "id": "09fdbb3c-c16b-4dc4-ac53-fbfb4e0d3441",
   "metadata": {},
   "outputs": [
    {
     "name": "stdout",
     "output_type": "stream",
     "text": [
      "a\n",
      "b\n",
      "c\n",
      "d\n"
     ]
    }
   ],
   "source": [
    "for respuesta in caso1df.itertuples(name=\"respuesta\"):\n",
    "    if (not pd.isna(respuesta.Alumno) & respuesta.Correcta) | (\n",
    "        pd.isna(respuesta.Alumno) & respuesta.Correcta\n",
    "    ):\n",
    "        print(respuesta.Opcion[0])"
   ]
  },
  {
   "cell_type": "code",
   "execution_count": 37,
   "id": "423a4cdc-c4f4-4728-8770-7893f8482867",
   "metadata": {},
   "outputs": [
    {
     "name": "stdout",
     "output_type": "stream",
     "text": [
      "Opción a. En este caso no deberíamos realizar pruebas de imagen de forma urgente. La presentación clínica es típica y existe elevación de amilasa y lipasa.\n",
      "Opción c. Aunque exista buena función renal, la realización de una TC urgente no está indicada. La presentación clínica es típica y existe elevación de amilasa y lipasa.\n"
     ]
    }
   ],
   "source": [
    "for respuesta in caso1df.itertuples(name=\"respuesta\"):\n",
    "    if (not pd.isna(respuesta.Alumno) and not respuesta.Correcta) or (\n",
    "        pd.isna(respuesta.Alumno) and respuesta.Correcta\n",
    "    ):\n",
    "        print(\"Opción \" + respuesta.Opcion[0] + \". \" + respuesta.Realimentacion)"
   ]
  },
  {
   "cell_type": "code",
   "execution_count": null,
   "id": "4ceebcb8-b205-4fc9-adbc-e9fcf1fd9eed",
   "metadata": {},
   "outputs": [],
   "source": []
  }
 ],
 "metadata": {
  "kernelspec": {
   "display_name": "Python 3 (ipykernel)",
   "language": "python",
   "name": "python3"
  },
  "language_info": {
   "codemirror_mode": {
    "name": "ipython",
    "version": 3
   },
   "file_extension": ".py",
   "mimetype": "text/x-python",
   "name": "python",
   "nbconvert_exporter": "python",
   "pygments_lexer": "ipython3",
   "version": "3.9.6"
  }
 },
 "nbformat": 4,
 "nbformat_minor": 5
}
